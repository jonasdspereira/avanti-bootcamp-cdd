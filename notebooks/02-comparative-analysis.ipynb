{
 "cells": [
  {
   "cell_type": "markdown",
   "id": "ec688b2c-472a-4b9b-aad7-35fa606ddf95",
   "metadata": {},
   "source": [
    "# Analise Comparativa"
   ]
  },
  {
   "cell_type": "code",
   "execution_count": 1,
   "id": "ab9c4105-cd47-46d2-9e70-e9d71f3aa865",
   "metadata": {
    "tags": []
   },
   "outputs": [],
   "source": [
    "import pandas as pd\n",
    "import numpy as np\n",
    "from sklearn.impute import SimpleImputer, KNNImputer\n",
    "from sklearn.pipeline import Pipeline\n",
    "from sklearn.compose import ColumnTransformer\n",
    "from sklearn.preprocessing import OneHotEncoder, OrdinalEncoder, StandardScaler\n",
    "from sklearn.model_selection import train_test_split, ShuffleSplit, KFold, cross_validate\n",
    "from sklearn.linear_model import LinearRegression\n",
    "from sklearn.neighbors import KNeighborsRegressor\n",
    "from sklearn.dummy import DummyRegressor\n",
    "from sklearn.neighbors import KNeighborsRegressor\n",
    "from sklearn.svm import SVR\n",
    "\n",
    "from sklearn.metrics import mean_squared_error"
   ]
  },
  {
   "cell_type": "code",
   "execution_count": 2,
   "id": "50bf7cb4-5554-485f-ae0c-4e7c03c91a88",
   "metadata": {
    "tags": []
   },
   "outputs": [],
   "source": [
    "df = pd.read_csv('../data/raw/data.csv')\n",
    "dictionary_df = pd.read_csv('../data/external/dictionary.csv')"
   ]
  },
  {
   "cell_type": "code",
   "execution_count": 3,
   "id": "cb030f21-7b57-44b0-bbad-b7dbb570064f",
   "metadata": {
    "tags": []
   },
   "outputs": [
    {
     "data": {
      "text/plain": [
       "{'X_shape': (53940, 10),\n",
       " 'y_shape': (53940,),\n",
       " 'Nominal Variables': [],\n",
       " 'Ordinal Variables': ['cut', 'color', 'clarity'],\n",
       " 'Continuous Variables': ['carat', 'depth', 'table', 'x', 'y', 'z'],\n",
       " 'Discrete Variables': []}"
      ]
     },
     "execution_count": 3,
     "metadata": {},
     "output_type": "execute_result"
    }
   ],
   "source": [
    "\n",
    "# Filtering variables based on criteria\n",
    "target_variable = 'price'\n",
    "\n",
    "useless_variables = (\n",
    "    dictionary_df\n",
    "    .query(\"tipo == 'inútil'\")\n",
    "    .variavel\n",
    "    .to_list()\n",
    ")\n",
    "\n",
    "nominal_variables = (\n",
    "    dictionary_df\n",
    "    .query(\"subtipo == 'nominal' and variavel != @target_variable\")\n",
    "    .variavel\n",
    "    .to_list()\n",
    ")\n",
    "\n",
    "ordinal_variables = (\n",
    "    dictionary_df\n",
    "    .query(\"subtipo == 'ordinal' and variavel != @target_variable\")\n",
    "    .variavel\n",
    "    .to_list()\n",
    ")\n",
    "\n",
    "continuous_variables = (\n",
    "    dictionary_df\n",
    "    .query(\"subtipo == 'contínua' and variavel != @target_variable\")\n",
    "    .variavel\n",
    "    .to_list()\n",
    ")\n",
    "\n",
    "discrete_variables = (\n",
    "    dictionary_df\n",
    "    .query(\"subtipo == 'discreta' and variavel != @target_variable\")\n",
    "    .variavel\n",
    "    .to_list()\n",
    ")\n",
    "\n",
    "# Creating X and y datasets\n",
    "X = df.drop(columns=[target_variable] + useless_variables)\n",
    "y = df[target_variable]\n",
    "\n",
    "{\n",
    "    \"X_shape\": X.shape,\n",
    "    \"y_shape\": y.shape,\n",
    "    \"Nominal Variables\": nominal_variables,\n",
    "    \"Ordinal Variables\": ordinal_variables,\n",
    "    \"Continuous Variables\": continuous_variables,\n",
    "    \"Discrete Variables\": discrete_variables\n",
    "}"
   ]
  },
  {
   "cell_type": "code",
   "execution_count": 4,
   "id": "f6ed67bb-aaf0-4368-8c3d-262beca8d245",
   "metadata": {},
   "outputs": [],
   "source": [
    "\n",
    "nominal_preprocessor = Pipeline(steps=[\n",
    "    (\"missing\", SimpleImputer(strategy='most_frequent')), \n",
    "    (\"encoding\", OneHotEncoder(sparse_output=False, handle_unknown='infrequent_if_exist'))\n",
    "])\n",
    "\n",
    "ordinal_preprocessor = Pipeline(steps=[\n",
    "    (\"missing\", SimpleImputer(strategy='most_frequent')), \n",
    "    (\"encoding\", OrdinalEncoder())\n",
    "])\n",
    "\n",
    "continuous_preprocessor = Pipeline(steps=[\n",
    "    (\"missing\", SimpleImputer(strategy='mean')), \n",
    "    (\"scaling\", StandardScaler())\n",
    "])\n",
    "\n",
    "discrete_preprocessor = Pipeline(steps=[\n",
    "    (\"missing\", KNNImputer()), \n",
    "    (\"scaling\", StandardScaler())\n",
    "])\n"
   ]
  },
  {
   "cell_type": "code",
   "execution_count": 5,
   "id": "13c31725-b5a5-4d15-9490-03f3ab505ffe",
   "metadata": {
    "tags": []
   },
   "outputs": [],
   "source": [
    "# Combine preprocessors in a ColumnTransformer\n",
    "preprocessor = ColumnTransformer(\n",
    "    transformers=[\n",
    "        (\"nominal\", nominal_preprocessor, nominal_variables),\n",
    "        (\"ordinal\", ordinal_preprocessor, ordinal_variables),\n",
    "        (\"continuous\", continuous_preprocessor, continuous_variables),\n",
    "        (\"discrete\", discrete_preprocessor, discrete_variables),\n",
    "    ]\n",
    ")"
   ]
  },
  {
   "cell_type": "code",
   "execution_count": 6,
   "id": "7d634f67-a949-447b-a18b-6b7aaaeb0391",
   "metadata": {
    "tags": []
   },
   "outputs": [],
   "source": [
    "models = [DummyRegressor(strategy='mean'), LinearRegression(), KNeighborsRegressor(n_neighbors=5)]\n",
    "metrics = [\n",
    "    'neg_mean_absolute_error',\n",
    "    'neg_mean_squared_error',\n",
    "    'neg_mean_absolute_percentage_error',\n",
    "    'r2',\n",
    "]\n",
    "monte_carlo = ShuffleSplit(n_splits=10, test_size=.2, random_state=42)\n",
    "# hold_out = ShuffleSplit(n_splits=1, test_size=.2, random_state=42)\n",
    "# kfold = KFold(n_splits=5, shuffle=True, random_state=42)"
   ]
  },
  {
   "cell_type": "code",
   "execution_count": 7,
   "id": "1f6afaa7-97b1-4c03-93ad-29007026fb1e",
   "metadata": {
    "tags": []
   },
   "outputs": [
    {
     "name": "stdout",
     "output_type": "stream",
     "text": [
      "rodando para o modelo: DummyRegressor\n",
      "rodando para o modelo: LinearRegression\n",
      "rodando para o modelo: KNeighborsRegressor\n"
     ]
    }
   ],
   "source": [
    "results_total = None\n",
    "for model in models:\n",
    "    model_name = model.__class__.__name__\n",
    "    print(f\"rodando para o modelo: {model_name}\")\n",
    "    approach = Pipeline(steps=[\n",
    "        ('preprocessor', preprocessor),\n",
    "        ('model', model),\n",
    "    ])\n",
    "\n",
    "    scores = cross_validate(\n",
    "        approach, X, y,\n",
    "        scoring=metrics, \n",
    "        cv=monte_carlo\n",
    "    )\n",
    "    results_model = pd.DataFrame(scores)\n",
    "    results_model['model'] = model_name\n",
    "    if results_total is None:\n",
    "        results_total = results_model\n",
    "    else:\n",
    "        results_total = pd.concat([results_total, results_model])"
   ]
  },
  {
   "cell_type": "code",
   "execution_count": 8,
   "id": "e958db32-c1b4-4517-b476-b0f3f210ae09",
   "metadata": {},
   "outputs": [
    {
     "data": {
      "text/html": [
       "<div>\n",
       "<style scoped>\n",
       "    .dataframe tbody tr th:only-of-type {\n",
       "        vertical-align: middle;\n",
       "    }\n",
       "\n",
       "    .dataframe tbody tr th {\n",
       "        vertical-align: top;\n",
       "    }\n",
       "\n",
       "    .dataframe thead th {\n",
       "        text-align: right;\n",
       "    }\n",
       "</style>\n",
       "<table border=\"1\" class=\"dataframe\">\n",
       "  <thead>\n",
       "    <tr style=\"text-align: right;\">\n",
       "      <th></th>\n",
       "      <th>model</th>\n",
       "      <th>DummyRegressor</th>\n",
       "      <th>KNeighborsRegressor</th>\n",
       "      <th>LinearRegression</th>\n",
       "    </tr>\n",
       "  </thead>\n",
       "  <tbody>\n",
       "    <tr>\n",
       "      <th rowspan=\"2\" valign=\"top\">fit_time</th>\n",
       "      <th>mean</th>\n",
       "      <td>4.266479e-02</td>\n",
       "      <td>0.087072</td>\n",
       "      <td>7.966759e-02</td>\n",
       "    </tr>\n",
       "    <tr>\n",
       "      <th>std</th>\n",
       "      <td>1.094923e-02</td>\n",
       "      <td>0.013518</td>\n",
       "      <td>1.710426e-02</td>\n",
       "    </tr>\n",
       "    <tr>\n",
       "      <th rowspan=\"2\" valign=\"top\">score_time</th>\n",
       "      <th>mean</th>\n",
       "      <td>9.534454e-03</td>\n",
       "      <td>0.275957</td>\n",
       "      <td>1.519840e-02</td>\n",
       "    </tr>\n",
       "    <tr>\n",
       "      <th>std</th>\n",
       "      <td>1.441761e-03</td>\n",
       "      <td>0.017870</td>\n",
       "      <td>3.669444e-03</td>\n",
       "    </tr>\n",
       "    <tr>\n",
       "      <th rowspan=\"2\" valign=\"top\">test_neg_mean_absolute_error</th>\n",
       "      <th>mean</th>\n",
       "      <td>-3.022423e+03</td>\n",
       "      <td>-389.101696</td>\n",
       "      <td>-8.609442e+02</td>\n",
       "    </tr>\n",
       "    <tr>\n",
       "      <th>std</th>\n",
       "      <td>1.702945e+01</td>\n",
       "      <td>4.203031</td>\n",
       "      <td>7.631357e+00</td>\n",
       "    </tr>\n",
       "    <tr>\n",
       "      <th rowspan=\"2\" valign=\"top\">test_neg_mean_squared_error</th>\n",
       "      <th>mean</th>\n",
       "      <td>-1.582750e+07</td>\n",
       "      <td>-557133.098198</td>\n",
       "      <td>-1.814252e+06</td>\n",
       "    </tr>\n",
       "    <tr>\n",
       "      <th>std</th>\n",
       "      <td>2.631958e+05</td>\n",
       "      <td>24072.413778</td>\n",
       "      <td>5.911209e+04</td>\n",
       "    </tr>\n",
       "    <tr>\n",
       "      <th rowspan=\"2\" valign=\"top\">test_neg_mean_absolute_percentage_error</th>\n",
       "      <th>mean</th>\n",
       "      <td>-1.877466e+00</td>\n",
       "      <td>-0.109717</td>\n",
       "      <td>-3.839988e-01</td>\n",
       "    </tr>\n",
       "    <tr>\n",
       "      <th>std</th>\n",
       "      <td>1.333744e-02</td>\n",
       "      <td>0.001017</td>\n",
       "      <td>3.842612e-03</td>\n",
       "    </tr>\n",
       "    <tr>\n",
       "      <th rowspan=\"2\" valign=\"top\">test_r2</th>\n",
       "      <th>mean</th>\n",
       "      <td>-5.216110e-05</td>\n",
       "      <td>0.964789</td>\n",
       "      <td>8.853430e-01</td>\n",
       "    </tr>\n",
       "    <tr>\n",
       "      <th>std</th>\n",
       "      <td>5.702326e-05</td>\n",
       "      <td>0.001650</td>\n",
       "      <td>4.041712e-03</td>\n",
       "    </tr>\n",
       "  </tbody>\n",
       "</table>\n",
       "</div>"
      ],
      "text/plain": [
       "model                                         DummyRegressor  \\\n",
       "fit_time                                mean    4.266479e-02   \n",
       "                                        std     1.094923e-02   \n",
       "score_time                              mean    9.534454e-03   \n",
       "                                        std     1.441761e-03   \n",
       "test_neg_mean_absolute_error            mean   -3.022423e+03   \n",
       "                                        std     1.702945e+01   \n",
       "test_neg_mean_squared_error             mean   -1.582750e+07   \n",
       "                                        std     2.631958e+05   \n",
       "test_neg_mean_absolute_percentage_error mean   -1.877466e+00   \n",
       "                                        std     1.333744e-02   \n",
       "test_r2                                 mean   -5.216110e-05   \n",
       "                                        std     5.702326e-05   \n",
       "\n",
       "model                                         KNeighborsRegressor  \\\n",
       "fit_time                                mean             0.087072   \n",
       "                                        std              0.013518   \n",
       "score_time                              mean             0.275957   \n",
       "                                        std              0.017870   \n",
       "test_neg_mean_absolute_error            mean          -389.101696   \n",
       "                                        std              4.203031   \n",
       "test_neg_mean_squared_error             mean       -557133.098198   \n",
       "                                        std          24072.413778   \n",
       "test_neg_mean_absolute_percentage_error mean            -0.109717   \n",
       "                                        std              0.001017   \n",
       "test_r2                                 mean             0.964789   \n",
       "                                        std              0.001650   \n",
       "\n",
       "model                                         LinearRegression  \n",
       "fit_time                                mean      7.966759e-02  \n",
       "                                        std       1.710426e-02  \n",
       "score_time                              mean      1.519840e-02  \n",
       "                                        std       3.669444e-03  \n",
       "test_neg_mean_absolute_error            mean     -8.609442e+02  \n",
       "                                        std       7.631357e+00  \n",
       "test_neg_mean_squared_error             mean     -1.814252e+06  \n",
       "                                        std       5.911209e+04  \n",
       "test_neg_mean_absolute_percentage_error mean     -3.839988e-01  \n",
       "                                        std       3.842612e-03  \n",
       "test_r2                                 mean      8.853430e-01  \n",
       "                                        std       4.041712e-03  "
      ]
     },
     "execution_count": 8,
     "metadata": {},
     "output_type": "execute_result"
    }
   ],
   "source": [
    "results_total.groupby('model').agg(['mean', 'std']).T"
   ]
  },
  {
   "cell_type": "code",
   "execution_count": null,
   "id": "85bd2806-0948-4aa6-9dbf-e0b5d3a30336",
   "metadata": {},
   "outputs": [],
   "source": []
  }
 ],
 "metadata": {
  "kernelspec": {
   "display_name": "Python 3 (ipykernel)",
   "language": "python",
   "name": "python3"
  },
  "language_info": {
   "codemirror_mode": {
    "name": "ipython",
    "version": 3
   },
   "file_extension": ".py",
   "mimetype": "text/x-python",
   "name": "python",
   "nbconvert_exporter": "python",
   "pygments_lexer": "ipython3",
   "version": "3.10.11"
  }
 },
 "nbformat": 4,
 "nbformat_minor": 5
}
